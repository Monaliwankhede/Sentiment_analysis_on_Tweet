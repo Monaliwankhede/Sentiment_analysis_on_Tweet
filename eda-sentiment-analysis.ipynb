{
 "cells": [
  {
   "cell_type": "markdown",
   "id": "256494aa",
   "metadata": {
    "papermill": {
     "duration": 0.010618,
     "end_time": "2023-07-11T10:59:21.272051",
     "exception": false,
     "start_time": "2023-07-11T10:59:21.261433",
     "status": "completed"
    },
    "tags": []
   },
   "source": [
    "***Context***\n",
    "\n",
    "***This is the sentiment140 dataset. It contains around 1,600,000 tweets extracted using the twitter api . The tweets have been annotated (0 = negative, 4 = positive) and they can be used to detect sentiment .***"
   ]
  },
  {
   "cell_type": "markdown",
   "id": "b946a4ca",
   "metadata": {
    "papermill": {
     "duration": 0.008958,
     "end_time": "2023-07-11T10:59:21.290435",
     "exception": false,
     "start_time": "2023-07-11T10:59:21.281477",
     "status": "completed"
    },
    "tags": []
   },
   "source": [
    "**Content**\n",
    "\n",
    "It contains the following 6 fields:\n",
    "\n",
    "target  :  The polarity of the tweet (0 = negative, 2 = neutral, 4 = positive)\n",
    "\n",
    "ids               :  The id of the tweet ( 2087)\n",
    "\n",
    "date        :  The date of the tweet (Sat May 16 23:58:44 UTC 2009)\n",
    "\n",
    "flag       :  The query (lyx). If there is no query, then this value is NO_QUERY.\n",
    "\n",
    "user        :  The user that tweeted (robotickilldozr)\n",
    "\n",
    "text       :  The text of the tweet (Lyx is cool)"
   ]
  },
  {
   "cell_type": "code",
   "execution_count": 1,
   "id": "0eb65fa9",
   "metadata": {
    "execution": {
     "iopub.execute_input": "2023-07-11T10:59:21.313832Z",
     "iopub.status.busy": "2023-07-11T10:59:21.312855Z",
     "iopub.status.idle": "2023-07-11T10:59:21.344963Z",
     "shell.execute_reply": "2023-07-11T10:59:21.343465Z"
    },
    "papermill": {
     "duration": 0.047838,
     "end_time": "2023-07-11T10:59:21.348308",
     "exception": false,
     "start_time": "2023-07-11T10:59:21.300470",
     "status": "completed"
    },
    "tags": []
   },
   "outputs": [
    {
     "name": "stdout",
     "output_type": "stream",
     "text": [
      "/kaggle/input/sentiment140/training.1600000.processed.noemoticon.csv\n"
     ]
    }
   ],
   "source": [
    "# import libraries\n",
    "import pandas as pd\n",
    "import matplotlib.pyplot as plt\n",
    "import numpy as np\n",
    "import warnings\n",
    "warnings.filterwarnings('ignore')\n",
    "\n",
    "import os\n",
    "for dirname, _, filenames in os.walk('/kaggle/input'):\n",
    "    for filename in filenames:\n",
    "        print(os.path.join(dirname, filename))\n"
   ]
  },
  {
   "cell_type": "code",
   "execution_count": 2,
   "id": "5f48dcf0",
   "metadata": {
    "execution": {
     "iopub.execute_input": "2023-07-11T10:59:21.371056Z",
     "iopub.status.busy": "2023-07-11T10:59:21.369587Z",
     "iopub.status.idle": "2023-07-11T10:59:30.226734Z",
     "shell.execute_reply": "2023-07-11T10:59:30.225164Z"
    },
    "papermill": {
     "duration": 8.87246,
     "end_time": "2023-07-11T10:59:30.230703",
     "exception": false,
     "start_time": "2023-07-11T10:59:21.358243",
     "status": "completed"
    },
    "tags": []
   },
   "outputs": [
    {
     "data": {
      "text/html": [
       "<div>\n",
       "<style scoped>\n",
       "    .dataframe tbody tr th:only-of-type {\n",
       "        vertical-align: middle;\n",
       "    }\n",
       "\n",
       "    .dataframe tbody tr th {\n",
       "        vertical-align: top;\n",
       "    }\n",
       "\n",
       "    .dataframe thead th {\n",
       "        text-align: right;\n",
       "    }\n",
       "</style>\n",
       "<table border=\"1\" class=\"dataframe\">\n",
       "  <thead>\n",
       "    <tr style=\"text-align: right;\">\n",
       "      <th></th>\n",
       "      <th>0</th>\n",
       "      <th>1467810369</th>\n",
       "      <th>Mon Apr 06 22:19:45 PDT 2009</th>\n",
       "      <th>NO_QUERY</th>\n",
       "      <th>_TheSpecialOne_</th>\n",
       "      <th>@switchfoot http://twitpic.com/2y1zl - Awww, that's a bummer.  You shoulda got David Carr of Third Day to do it. ;D</th>\n",
       "    </tr>\n",
       "  </thead>\n",
       "  <tbody>\n",
       "    <tr>\n",
       "      <th>0</th>\n",
       "      <td>0</td>\n",
       "      <td>1467810672</td>\n",
       "      <td>Mon Apr 06 22:19:49 PDT 2009</td>\n",
       "      <td>NO_QUERY</td>\n",
       "      <td>scotthamilton</td>\n",
       "      <td>is upset that he can't update his Facebook by ...</td>\n",
       "    </tr>\n",
       "    <tr>\n",
       "      <th>1</th>\n",
       "      <td>0</td>\n",
       "      <td>1467810917</td>\n",
       "      <td>Mon Apr 06 22:19:53 PDT 2009</td>\n",
       "      <td>NO_QUERY</td>\n",
       "      <td>mattycus</td>\n",
       "      <td>@Kenichan I dived many times for the ball. Man...</td>\n",
       "    </tr>\n",
       "    <tr>\n",
       "      <th>2</th>\n",
       "      <td>0</td>\n",
       "      <td>1467811184</td>\n",
       "      <td>Mon Apr 06 22:19:57 PDT 2009</td>\n",
       "      <td>NO_QUERY</td>\n",
       "      <td>ElleCTF</td>\n",
       "      <td>my whole body feels itchy and like its on fire</td>\n",
       "    </tr>\n",
       "    <tr>\n",
       "      <th>3</th>\n",
       "      <td>0</td>\n",
       "      <td>1467811193</td>\n",
       "      <td>Mon Apr 06 22:19:57 PDT 2009</td>\n",
       "      <td>NO_QUERY</td>\n",
       "      <td>Karoli</td>\n",
       "      <td>@nationwideclass no, it's not behaving at all....</td>\n",
       "    </tr>\n",
       "    <tr>\n",
       "      <th>4</th>\n",
       "      <td>0</td>\n",
       "      <td>1467811372</td>\n",
       "      <td>Mon Apr 06 22:20:00 PDT 2009</td>\n",
       "      <td>NO_QUERY</td>\n",
       "      <td>joy_wolf</td>\n",
       "      <td>@Kwesidei not the whole crew</td>\n",
       "    </tr>\n",
       "  </tbody>\n",
       "</table>\n",
       "</div>"
      ],
      "text/plain": [
       "   0  1467810369  Mon Apr 06 22:19:45 PDT 2009  NO_QUERY _TheSpecialOne_  \\\n",
       "0  0  1467810672  Mon Apr 06 22:19:49 PDT 2009  NO_QUERY   scotthamilton   \n",
       "1  0  1467810917  Mon Apr 06 22:19:53 PDT 2009  NO_QUERY        mattycus   \n",
       "2  0  1467811184  Mon Apr 06 22:19:57 PDT 2009  NO_QUERY         ElleCTF   \n",
       "3  0  1467811193  Mon Apr 06 22:19:57 PDT 2009  NO_QUERY          Karoli   \n",
       "4  0  1467811372  Mon Apr 06 22:20:00 PDT 2009  NO_QUERY        joy_wolf   \n",
       "\n",
       "  @switchfoot http://twitpic.com/2y1zl - Awww, that's a bummer.  You shoulda got David Carr of Third Day to do it. ;D  \n",
       "0  is upset that he can't update his Facebook by ...                                                                   \n",
       "1  @Kenichan I dived many times for the ball. Man...                                                                   \n",
       "2    my whole body feels itchy and like its on fire                                                                    \n",
       "3  @nationwideclass no, it's not behaving at all....                                                                   \n",
       "4                      @Kwesidei not the whole crew                                                                    "
      ]
     },
     "execution_count": 2,
     "metadata": {},
     "output_type": "execute_result"
    }
   ],
   "source": [
    "# Read data\n",
    "data = pd.read_csv('/kaggle/input/sentiment140/training.1600000.processed.noemoticon.csv',\n",
    "                   encoding='latin-1')\n",
    "data.head()"
   ]
  },
  {
   "cell_type": "markdown",
   "id": "3d829e04",
   "metadata": {
    "papermill": {
     "duration": 0.009812,
     "end_time": "2023-07-11T10:59:30.250658",
     "exception": false,
     "start_time": "2023-07-11T10:59:30.240846",
     "status": "completed"
    },
    "tags": []
   },
   "source": [
    "**Here I can see data having no header so I can fix header**"
   ]
  },
  {
   "cell_type": "code",
   "execution_count": 3,
   "id": "854e515a",
   "metadata": {
    "execution": {
     "iopub.execute_input": "2023-07-11T10:59:30.272183Z",
     "iopub.status.busy": "2023-07-11T10:59:30.271708Z",
     "iopub.status.idle": "2023-07-11T10:59:30.292405Z",
     "shell.execute_reply": "2023-07-11T10:59:30.291147Z"
    },
    "papermill": {
     "duration": 0.034695,
     "end_time": "2023-07-11T10:59:30.295140",
     "exception": false,
     "start_time": "2023-07-11T10:59:30.260445",
     "status": "completed"
    },
    "tags": []
   },
   "outputs": [
    {
     "data": {
      "text/html": [
       "<div>\n",
       "<style scoped>\n",
       "    .dataframe tbody tr th:only-of-type {\n",
       "        vertical-align: middle;\n",
       "    }\n",
       "\n",
       "    .dataframe tbody tr th {\n",
       "        vertical-align: top;\n",
       "    }\n",
       "\n",
       "    .dataframe thead th {\n",
       "        text-align: right;\n",
       "    }\n",
       "</style>\n",
       "<table border=\"1\" class=\"dataframe\">\n",
       "  <thead>\n",
       "    <tr style=\"text-align: right;\">\n",
       "      <th></th>\n",
       "      <th>Target</th>\n",
       "      <th>ids</th>\n",
       "      <th>Date</th>\n",
       "      <th>Flag</th>\n",
       "      <th>User</th>\n",
       "      <th>Text</th>\n",
       "    </tr>\n",
       "  </thead>\n",
       "  <tbody>\n",
       "    <tr>\n",
       "      <th>0</th>\n",
       "      <td>0</td>\n",
       "      <td>1467810672</td>\n",
       "      <td>Mon Apr 06 22:19:49 PDT 2009</td>\n",
       "      <td>NO_QUERY</td>\n",
       "      <td>scotthamilton</td>\n",
       "      <td>is upset that he can't update his Facebook by ...</td>\n",
       "    </tr>\n",
       "    <tr>\n",
       "      <th>1</th>\n",
       "      <td>0</td>\n",
       "      <td>1467810917</td>\n",
       "      <td>Mon Apr 06 22:19:53 PDT 2009</td>\n",
       "      <td>NO_QUERY</td>\n",
       "      <td>mattycus</td>\n",
       "      <td>@Kenichan I dived many times for the ball. Man...</td>\n",
       "    </tr>\n",
       "    <tr>\n",
       "      <th>2</th>\n",
       "      <td>0</td>\n",
       "      <td>1467811184</td>\n",
       "      <td>Mon Apr 06 22:19:57 PDT 2009</td>\n",
       "      <td>NO_QUERY</td>\n",
       "      <td>ElleCTF</td>\n",
       "      <td>my whole body feels itchy and like its on fire</td>\n",
       "    </tr>\n",
       "    <tr>\n",
       "      <th>3</th>\n",
       "      <td>0</td>\n",
       "      <td>1467811193</td>\n",
       "      <td>Mon Apr 06 22:19:57 PDT 2009</td>\n",
       "      <td>NO_QUERY</td>\n",
       "      <td>Karoli</td>\n",
       "      <td>@nationwideclass no, it's not behaving at all....</td>\n",
       "    </tr>\n",
       "    <tr>\n",
       "      <th>4</th>\n",
       "      <td>0</td>\n",
       "      <td>1467811372</td>\n",
       "      <td>Mon Apr 06 22:20:00 PDT 2009</td>\n",
       "      <td>NO_QUERY</td>\n",
       "      <td>joy_wolf</td>\n",
       "      <td>@Kwesidei not the whole crew</td>\n",
       "    </tr>\n",
       "    <tr>\n",
       "      <th>...</th>\n",
       "      <td>...</td>\n",
       "      <td>...</td>\n",
       "      <td>...</td>\n",
       "      <td>...</td>\n",
       "      <td>...</td>\n",
       "      <td>...</td>\n",
       "    </tr>\n",
       "    <tr>\n",
       "      <th>1599994</th>\n",
       "      <td>4</td>\n",
       "      <td>2193601966</td>\n",
       "      <td>Tue Jun 16 08:40:49 PDT 2009</td>\n",
       "      <td>NO_QUERY</td>\n",
       "      <td>AmandaMarie1028</td>\n",
       "      <td>Just woke up. Having no school is the best fee...</td>\n",
       "    </tr>\n",
       "    <tr>\n",
       "      <th>1599995</th>\n",
       "      <td>4</td>\n",
       "      <td>2193601969</td>\n",
       "      <td>Tue Jun 16 08:40:49 PDT 2009</td>\n",
       "      <td>NO_QUERY</td>\n",
       "      <td>TheWDBoards</td>\n",
       "      <td>TheWDB.com - Very cool to hear old Walt interv...</td>\n",
       "    </tr>\n",
       "    <tr>\n",
       "      <th>1599996</th>\n",
       "      <td>4</td>\n",
       "      <td>2193601991</td>\n",
       "      <td>Tue Jun 16 08:40:49 PDT 2009</td>\n",
       "      <td>NO_QUERY</td>\n",
       "      <td>bpbabe</td>\n",
       "      <td>Are you ready for your MoJo Makeover? Ask me f...</td>\n",
       "    </tr>\n",
       "    <tr>\n",
       "      <th>1599997</th>\n",
       "      <td>4</td>\n",
       "      <td>2193602064</td>\n",
       "      <td>Tue Jun 16 08:40:49 PDT 2009</td>\n",
       "      <td>NO_QUERY</td>\n",
       "      <td>tinydiamondz</td>\n",
       "      <td>Happy 38th Birthday to my boo of alll time!!! ...</td>\n",
       "    </tr>\n",
       "    <tr>\n",
       "      <th>1599998</th>\n",
       "      <td>4</td>\n",
       "      <td>2193602129</td>\n",
       "      <td>Tue Jun 16 08:40:50 PDT 2009</td>\n",
       "      <td>NO_QUERY</td>\n",
       "      <td>RyanTrevMorris</td>\n",
       "      <td>happy #charitytuesday @theNSPCC @SparksCharity...</td>\n",
       "    </tr>\n",
       "  </tbody>\n",
       "</table>\n",
       "<p>1599999 rows × 6 columns</p>\n",
       "</div>"
      ],
      "text/plain": [
       "         Target         ids                          Date      Flag  \\\n",
       "0             0  1467810672  Mon Apr 06 22:19:49 PDT 2009  NO_QUERY   \n",
       "1             0  1467810917  Mon Apr 06 22:19:53 PDT 2009  NO_QUERY   \n",
       "2             0  1467811184  Mon Apr 06 22:19:57 PDT 2009  NO_QUERY   \n",
       "3             0  1467811193  Mon Apr 06 22:19:57 PDT 2009  NO_QUERY   \n",
       "4             0  1467811372  Mon Apr 06 22:20:00 PDT 2009  NO_QUERY   \n",
       "...         ...         ...                           ...       ...   \n",
       "1599994       4  2193601966  Tue Jun 16 08:40:49 PDT 2009  NO_QUERY   \n",
       "1599995       4  2193601969  Tue Jun 16 08:40:49 PDT 2009  NO_QUERY   \n",
       "1599996       4  2193601991  Tue Jun 16 08:40:49 PDT 2009  NO_QUERY   \n",
       "1599997       4  2193602064  Tue Jun 16 08:40:49 PDT 2009  NO_QUERY   \n",
       "1599998       4  2193602129  Tue Jun 16 08:40:50 PDT 2009  NO_QUERY   \n",
       "\n",
       "                    User                                               Text  \n",
       "0          scotthamilton  is upset that he can't update his Facebook by ...  \n",
       "1               mattycus  @Kenichan I dived many times for the ball. Man...  \n",
       "2                ElleCTF    my whole body feels itchy and like its on fire   \n",
       "3                 Karoli  @nationwideclass no, it's not behaving at all....  \n",
       "4               joy_wolf                      @Kwesidei not the whole crew   \n",
       "...                  ...                                                ...  \n",
       "1599994  AmandaMarie1028  Just woke up. Having no school is the best fee...  \n",
       "1599995      TheWDBoards  TheWDB.com - Very cool to hear old Walt interv...  \n",
       "1599996           bpbabe  Are you ready for your MoJo Makeover? Ask me f...  \n",
       "1599997     tinydiamondz  Happy 38th Birthday to my boo of alll time!!! ...  \n",
       "1599998   RyanTrevMorris  happy #charitytuesday @theNSPCC @SparksCharity...  \n",
       "\n",
       "[1599999 rows x 6 columns]"
      ]
     },
     "execution_count": 3,
     "metadata": {},
     "output_type": "execute_result"
    }
   ],
   "source": [
    "# set columns header\n",
    "data.columns = ['Target','ids','Date','Flag','User','Text']\n",
    "data"
   ]
  },
  {
   "cell_type": "markdown",
   "id": "666ba119",
   "metadata": {
    "papermill": {
     "duration": 0.011301,
     "end_time": "2023-07-11T10:59:30.319546",
     "exception": false,
     "start_time": "2023-07-11T10:59:30.308245",
     "status": "completed"
    },
    "tags": []
   },
   "source": [
    "# Perfrom EDA on Data"
   ]
  },
  {
   "cell_type": "code",
   "execution_count": 4,
   "id": "1139d8ec",
   "metadata": {
    "execution": {
     "iopub.execute_input": "2023-07-11T10:59:30.344300Z",
     "iopub.status.busy": "2023-07-11T10:59:30.343852Z",
     "iopub.status.idle": "2023-07-11T10:59:30.349508Z",
     "shell.execute_reply": "2023-07-11T10:59:30.348650Z"
    },
    "papermill": {
     "duration": 0.022593,
     "end_time": "2023-07-11T10:59:30.352565",
     "exception": false,
     "start_time": "2023-07-11T10:59:30.329972",
     "status": "completed"
    },
    "tags": []
   },
   "outputs": [
    {
     "name": "stdout",
     "output_type": "stream",
     "text": [
      "The shape of Data is :  (1599999, 6)\n"
     ]
    }
   ],
   "source": [
    "print(\"The shape of Data is : \",data.shape)"
   ]
  },
  {
   "cell_type": "code",
   "execution_count": 5,
   "id": "3493c7ec",
   "metadata": {
    "execution": {
     "iopub.execute_input": "2023-07-11T10:59:30.374937Z",
     "iopub.status.busy": "2023-07-11T10:59:30.374449Z",
     "iopub.status.idle": "2023-07-11T10:59:32.547913Z",
     "shell.execute_reply": "2023-07-11T10:59:32.546637Z"
    },
    "papermill": {
     "duration": 2.187934,
     "end_time": "2023-07-11T10:59:32.550787",
     "exception": false,
     "start_time": "2023-07-11T10:59:30.362853",
     "status": "completed"
    },
    "tags": []
   },
   "outputs": [
    {
     "data": {
      "text/plain": [
       "Target    1599999\n",
       "ids       1599999\n",
       "Date      1599999\n",
       "Flag      1599999\n",
       "User      1599999\n",
       "Text      1599999\n",
       "dtype: int64"
      ]
     },
     "execution_count": 5,
     "metadata": {},
     "output_type": "execute_result"
    }
   ],
   "source": [
    "# count of data\n",
    "data.count()"
   ]
  },
  {
   "cell_type": "code",
   "execution_count": 6,
   "id": "0ebc1848",
   "metadata": {
    "execution": {
     "iopub.execute_input": "2023-07-11T10:59:32.574715Z",
     "iopub.status.busy": "2023-07-11T10:59:32.574173Z",
     "iopub.status.idle": "2023-07-11T10:59:34.682929Z",
     "shell.execute_reply": "2023-07-11T10:59:34.681698Z"
    },
    "papermill": {
     "duration": 2.124428,
     "end_time": "2023-07-11T10:59:34.686319",
     "exception": false,
     "start_time": "2023-07-11T10:59:32.561891",
     "status": "completed"
    },
    "tags": []
   },
   "outputs": [
    {
     "data": {
      "text/plain": [
       "Target    0\n",
       "ids       0\n",
       "Date      0\n",
       "Flag      0\n",
       "User      0\n",
       "Text      0\n",
       "dtype: int64"
      ]
     },
     "execution_count": 6,
     "metadata": {},
     "output_type": "execute_result"
    }
   ],
   "source": [
    "# Check data having missing values or not \n",
    "data.isnull().sum()"
   ]
  },
  {
   "cell_type": "markdown",
   "id": "f7e945ce",
   "metadata": {
    "papermill": {
     "duration": 0.010251,
     "end_time": "2023-07-11T10:59:34.707321",
     "exception": false,
     "start_time": "2023-07-11T10:59:34.697070",
     "status": "completed"
    },
    "tags": []
   },
   "source": [
    "**There is no missing values in Data so I can perform Analysis**"
   ]
  },
  {
   "cell_type": "code",
   "execution_count": 7,
   "id": "4e65f3e1",
   "metadata": {
    "execution": {
     "iopub.execute_input": "2023-07-11T10:59:34.731249Z",
     "iopub.status.busy": "2023-07-11T10:59:34.730387Z",
     "iopub.status.idle": "2023-07-11T10:59:36.858313Z",
     "shell.execute_reply": "2023-07-11T10:59:36.857022Z"
    },
    "papermill": {
     "duration": 2.143319,
     "end_time": "2023-07-11T10:59:36.861464",
     "exception": false,
     "start_time": "2023-07-11T10:59:34.718145",
     "status": "completed"
    },
    "tags": []
   },
   "outputs": [
    {
     "name": "stdout",
     "output_type": "stream",
     "text": [
      "<class 'pandas.core.frame.DataFrame'>\n",
      "RangeIndex: 1599999 entries, 0 to 1599998\n",
      "Data columns (total 6 columns):\n",
      " #   Column  Non-Null Count    Dtype \n",
      "---  ------  --------------    ----- \n",
      " 0   Target  1599999 non-null  int64 \n",
      " 1   ids     1599999 non-null  int64 \n",
      " 2   Date    1599999 non-null  object\n",
      " 3   Flag    1599999 non-null  object\n",
      " 4   User    1599999 non-null  object\n",
      " 5   Text    1599999 non-null  object\n",
      "dtypes: int64(2), object(4)\n",
      "memory usage: 73.2+ MB\n"
     ]
    }
   ],
   "source": [
    "# check info of data\n",
    "data.info()"
   ]
  },
  {
   "cell_type": "markdown",
   "id": "b11888f9",
   "metadata": {
    "papermill": {
     "duration": 0.010554,
     "end_time": "2023-07-11T10:59:36.883487",
     "exception": false,
     "start_time": "2023-07-11T10:59:36.872933",
     "status": "completed"
    },
    "tags": []
   },
   "source": [
    "**From this I get to know there are no missing values as well as 2 integer and 4 object datatype but \n",
    "date should be in datetime format so I will use pd.datetime()**"
   ]
  },
  {
   "cell_type": "code",
   "execution_count": 8,
   "id": "7f9cd2a5",
   "metadata": {
    "execution": {
     "iopub.execute_input": "2023-07-11T10:59:36.906873Z",
     "iopub.status.busy": "2023-07-11T10:59:36.906327Z",
     "iopub.status.idle": "2023-07-11T10:59:50.647325Z",
     "shell.execute_reply": "2023-07-11T10:59:50.646219Z"
    },
    "papermill": {
     "duration": 13.756584,
     "end_time": "2023-07-11T10:59:50.650632",
     "exception": false,
     "start_time": "2023-07-11T10:59:36.894048",
     "status": "completed"
    },
    "tags": []
   },
   "outputs": [],
   "source": [
    "data['Date']=  pd.to_datetime(data['Date'], infer_datetime_format=True)"
   ]
  },
  {
   "cell_type": "code",
   "execution_count": 9,
   "id": "0335a036",
   "metadata": {
    "execution": {
     "iopub.execute_input": "2023-07-11T10:59:50.674688Z",
     "iopub.status.busy": "2023-07-11T10:59:50.673844Z",
     "iopub.status.idle": "2023-07-11T10:59:52.396990Z",
     "shell.execute_reply": "2023-07-11T10:59:52.395691Z"
    },
    "papermill": {
     "duration": 1.739456,
     "end_time": "2023-07-11T10:59:52.400780",
     "exception": false,
     "start_time": "2023-07-11T10:59:50.661324",
     "status": "completed"
    },
    "tags": []
   },
   "outputs": [
    {
     "name": "stdout",
     "output_type": "stream",
     "text": [
      "<class 'pandas.core.frame.DataFrame'>\n",
      "RangeIndex: 1599999 entries, 0 to 1599998\n",
      "Data columns (total 6 columns):\n",
      " #   Column  Non-Null Count    Dtype         \n",
      "---  ------  --------------    -----         \n",
      " 0   Target  1599999 non-null  int64         \n",
      " 1   ids     1599999 non-null  int64         \n",
      " 2   Date    1599999 non-null  datetime64[ns]\n",
      " 3   Flag    1599999 non-null  object        \n",
      " 4   User    1599999 non-null  object        \n",
      " 5   Text    1599999 non-null  object        \n",
      "dtypes: datetime64[ns](1), int64(2), object(3)\n",
      "memory usage: 73.2+ MB\n"
     ]
    }
   ],
   "source": [
    "# again check info to see changes are done or not\n",
    "data.info()"
   ]
  },
  {
   "cell_type": "code",
   "execution_count": 10,
   "id": "6465a8e7",
   "metadata": {
    "execution": {
     "iopub.execute_input": "2023-07-11T10:59:52.427850Z",
     "iopub.status.busy": "2023-07-11T10:59:52.426900Z",
     "iopub.status.idle": "2023-07-11T10:59:52.442925Z",
     "shell.execute_reply": "2023-07-11T10:59:52.441675Z"
    },
    "papermill": {
     "duration": 0.033611,
     "end_time": "2023-07-11T10:59:52.445501",
     "exception": false,
     "start_time": "2023-07-11T10:59:52.411890",
     "status": "completed"
    },
    "tags": []
   },
   "outputs": [
    {
     "data": {
      "text/html": [
       "<div>\n",
       "<style scoped>\n",
       "    .dataframe tbody tr th:only-of-type {\n",
       "        vertical-align: middle;\n",
       "    }\n",
       "\n",
       "    .dataframe tbody tr th {\n",
       "        vertical-align: top;\n",
       "    }\n",
       "\n",
       "    .dataframe thead th {\n",
       "        text-align: right;\n",
       "    }\n",
       "</style>\n",
       "<table border=\"1\" class=\"dataframe\">\n",
       "  <thead>\n",
       "    <tr style=\"text-align: right;\">\n",
       "      <th></th>\n",
       "      <th>Target</th>\n",
       "      <th>ids</th>\n",
       "      <th>Date</th>\n",
       "      <th>Flag</th>\n",
       "      <th>User</th>\n",
       "      <th>Text</th>\n",
       "    </tr>\n",
       "  </thead>\n",
       "  <tbody>\n",
       "    <tr>\n",
       "      <th>0</th>\n",
       "      <td>0</td>\n",
       "      <td>1467810672</td>\n",
       "      <td>2009-04-06 22:19:49</td>\n",
       "      <td>NO_QUERY</td>\n",
       "      <td>scotthamilton</td>\n",
       "      <td>is upset that he can't update his Facebook by ...</td>\n",
       "    </tr>\n",
       "    <tr>\n",
       "      <th>1</th>\n",
       "      <td>0</td>\n",
       "      <td>1467810917</td>\n",
       "      <td>2009-04-06 22:19:53</td>\n",
       "      <td>NO_QUERY</td>\n",
       "      <td>mattycus</td>\n",
       "      <td>@Kenichan I dived many times for the ball. Man...</td>\n",
       "    </tr>\n",
       "    <tr>\n",
       "      <th>2</th>\n",
       "      <td>0</td>\n",
       "      <td>1467811184</td>\n",
       "      <td>2009-04-06 22:19:57</td>\n",
       "      <td>NO_QUERY</td>\n",
       "      <td>ElleCTF</td>\n",
       "      <td>my whole body feels itchy and like its on fire</td>\n",
       "    </tr>\n",
       "    <tr>\n",
       "      <th>3</th>\n",
       "      <td>0</td>\n",
       "      <td>1467811193</td>\n",
       "      <td>2009-04-06 22:19:57</td>\n",
       "      <td>NO_QUERY</td>\n",
       "      <td>Karoli</td>\n",
       "      <td>@nationwideclass no, it's not behaving at all....</td>\n",
       "    </tr>\n",
       "    <tr>\n",
       "      <th>4</th>\n",
       "      <td>0</td>\n",
       "      <td>1467811372</td>\n",
       "      <td>2009-04-06 22:20:00</td>\n",
       "      <td>NO_QUERY</td>\n",
       "      <td>joy_wolf</td>\n",
       "      <td>@Kwesidei not the whole crew</td>\n",
       "    </tr>\n",
       "  </tbody>\n",
       "</table>\n",
       "</div>"
      ],
      "text/plain": [
       "   Target         ids                Date      Flag           User  \\\n",
       "0       0  1467810672 2009-04-06 22:19:49  NO_QUERY  scotthamilton   \n",
       "1       0  1467810917 2009-04-06 22:19:53  NO_QUERY       mattycus   \n",
       "2       0  1467811184 2009-04-06 22:19:57  NO_QUERY        ElleCTF   \n",
       "3       0  1467811193 2009-04-06 22:19:57  NO_QUERY         Karoli   \n",
       "4       0  1467811372 2009-04-06 22:20:00  NO_QUERY       joy_wolf   \n",
       "\n",
       "                                                Text  \n",
       "0  is upset that he can't update his Facebook by ...  \n",
       "1  @Kenichan I dived many times for the ball. Man...  \n",
       "2    my whole body feels itchy and like its on fire   \n",
       "3  @nationwideclass no, it's not behaving at all....  \n",
       "4                      @Kwesidei not the whole crew   "
      ]
     },
     "execution_count": 10,
     "metadata": {},
     "output_type": "execute_result"
    }
   ],
   "source": [
    "# see final data after changes \n",
    "data.head()"
   ]
  },
  {
   "cell_type": "markdown",
   "id": "3931805f",
   "metadata": {
    "papermill": {
     "duration": 0.010396,
     "end_time": "2023-07-11T10:59:52.467143",
     "exception": false,
     "start_time": "2023-07-11T10:59:52.456747",
     "status": "completed"
    },
    "tags": []
   },
   "source": [
    "**Here I can see date object is converted into datetime format**"
   ]
  },
  {
   "cell_type": "code",
   "execution_count": 11,
   "id": "bec8eb27",
   "metadata": {
    "execution": {
     "iopub.execute_input": "2023-07-11T10:59:52.492784Z",
     "iopub.status.busy": "2023-07-11T10:59:52.491732Z",
     "iopub.status.idle": "2023-07-11T10:59:54.287351Z",
     "shell.execute_reply": "2023-07-11T10:59:54.285739Z"
    },
    "papermill": {
     "duration": 1.812929,
     "end_time": "2023-07-11T10:59:54.291084",
     "exception": false,
     "start_time": "2023-07-11T10:59:52.478155",
     "status": "completed"
    },
    "tags": []
   },
   "outputs": [
    {
     "data": {
      "text/plain": [
       "lost_dog           549\n",
       "webwoke            345\n",
       "tweetpet           310\n",
       "SallytheShizzle    281\n",
       "VioletsCRUK        279\n",
       "                  ... \n",
       "iheartrobpattz       1\n",
       "67trinity            1\n",
       "Sibby                1\n",
       "mAnyA_15             1\n",
       "bpbabe               1\n",
       "Name: User, Length: 659775, dtype: int64"
      ]
     },
     "execution_count": 11,
     "metadata": {},
     "output_type": "execute_result"
    }
   ],
   "source": [
    "# find most frequent user tweet\n",
    "data[\"User\"].value_counts()"
   ]
  },
  {
   "cell_type": "markdown",
   "id": "ab2373ff",
   "metadata": {
    "papermill": {
     "duration": 0.010984,
     "end_time": "2023-07-11T10:59:54.313290",
     "exception": false,
     "start_time": "2023-07-11T10:59:54.302306",
     "status": "completed"
    },
    "tags": []
   },
   "source": [
    "***here we can see that above 300 (lost_dog,webwoke,tweetpet) this user tweet most***"
   ]
  },
  {
   "cell_type": "code",
   "execution_count": 12,
   "id": "c1b81f25",
   "metadata": {
    "execution": {
     "iopub.execute_input": "2023-07-11T10:59:54.339342Z",
     "iopub.status.busy": "2023-07-11T10:59:54.338060Z",
     "iopub.status.idle": "2023-07-11T10:59:54.492003Z",
     "shell.execute_reply": "2023-07-11T10:59:54.490615Z"
    },
    "papermill": {
     "duration": 0.16948,
     "end_time": "2023-07-11T10:59:54.494694",
     "exception": false,
     "start_time": "2023-07-11T10:59:54.325214",
     "status": "completed"
    },
    "tags": []
   },
   "outputs": [
    {
     "data": {
      "text/html": [
       "<div>\n",
       "<style scoped>\n",
       "    .dataframe tbody tr th:only-of-type {\n",
       "        vertical-align: middle;\n",
       "    }\n",
       "\n",
       "    .dataframe tbody tr th {\n",
       "        vertical-align: top;\n",
       "    }\n",
       "\n",
       "    .dataframe thead th {\n",
       "        text-align: right;\n",
       "    }\n",
       "</style>\n",
       "<table border=\"1\" class=\"dataframe\">\n",
       "  <thead>\n",
       "    <tr style=\"text-align: right;\">\n",
       "      <th></th>\n",
       "      <th>Target</th>\n",
       "    </tr>\n",
       "  </thead>\n",
       "  <tbody>\n",
       "    <tr>\n",
       "      <th>count</th>\n",
       "      <td>1599999.0</td>\n",
       "    </tr>\n",
       "    <tr>\n",
       "      <th>mean</th>\n",
       "      <td>2.0</td>\n",
       "    </tr>\n",
       "    <tr>\n",
       "      <th>std</th>\n",
       "      <td>2.0</td>\n",
       "    </tr>\n",
       "    <tr>\n",
       "      <th>min</th>\n",
       "      <td>0.0</td>\n",
       "    </tr>\n",
       "    <tr>\n",
       "      <th>25%</th>\n",
       "      <td>0.0</td>\n",
       "    </tr>\n",
       "    <tr>\n",
       "      <th>50%</th>\n",
       "      <td>4.0</td>\n",
       "    </tr>\n",
       "    <tr>\n",
       "      <th>75%</th>\n",
       "      <td>4.0</td>\n",
       "    </tr>\n",
       "    <tr>\n",
       "      <th>max</th>\n",
       "      <td>4.0</td>\n",
       "    </tr>\n",
       "  </tbody>\n",
       "</table>\n",
       "</div>"
      ],
      "text/plain": [
       "          Target\n",
       "count  1599999.0\n",
       "mean         2.0\n",
       "std          2.0\n",
       "min          0.0\n",
       "25%          0.0\n",
       "50%          4.0\n",
       "75%          4.0\n",
       "max          4.0"
      ]
     },
     "execution_count": 12,
     "metadata": {},
     "output_type": "execute_result"
    }
   ],
   "source": [
    "# summary statastic of data\n",
    "round(data[[\"Target\"]].describe(),2)"
   ]
  },
  {
   "cell_type": "markdown",
   "id": "5e0da5e1",
   "metadata": {
    "papermill": {
     "duration": 0.013385,
     "end_time": "2023-07-11T10:59:54.519694",
     "exception": false,
     "start_time": "2023-07-11T10:59:54.506309",
     "status": "completed"
    },
    "tags": []
   },
   "source": [
    "***Target value minium is 0 means negative and maximum 4 is positive***"
   ]
  },
  {
   "cell_type": "code",
   "execution_count": 13,
   "id": "212bb635",
   "metadata": {
    "execution": {
     "iopub.execute_input": "2023-07-11T10:59:54.545000Z",
     "iopub.status.busy": "2023-07-11T10:59:54.544610Z",
     "iopub.status.idle": "2023-07-11T10:59:54.570343Z",
     "shell.execute_reply": "2023-07-11T10:59:54.569060Z"
    },
    "papermill": {
     "duration": 0.041964,
     "end_time": "2023-07-11T10:59:54.573334",
     "exception": false,
     "start_time": "2023-07-11T10:59:54.531370",
     "status": "completed"
    },
    "tags": []
   },
   "outputs": [
    {
     "data": {
      "text/plain": [
       "4    800000\n",
       "0    799999\n",
       "Name: Target, dtype: int64"
      ]
     },
     "execution_count": 13,
     "metadata": {},
     "output_type": "execute_result"
    }
   ],
   "source": [
    "# count of target variable\n",
    "data[\"Target\"].value_counts()"
   ]
  },
  {
   "cell_type": "code",
   "execution_count": 14,
   "id": "3d737286",
   "metadata": {
    "execution": {
     "iopub.execute_input": "2023-07-11T10:59:54.598558Z",
     "iopub.status.busy": "2023-07-11T10:59:54.597698Z",
     "iopub.status.idle": "2023-07-11T10:59:55.209820Z",
     "shell.execute_reply": "2023-07-11T10:59:55.208811Z"
    },
    "papermill": {
     "duration": 0.62785,
     "end_time": "2023-07-11T10:59:55.212604",
     "exception": false,
     "start_time": "2023-07-11T10:59:54.584754",
     "status": "completed"
    },
    "tags": []
   },
   "outputs": [],
   "source": [
    "# lets set Target 4 as positive tweets and 0 as negative\n",
    "data[\"Target\"] = data[\"Target\"].replace(4,\"Positive\")\n",
    "data[\"Target\"] = data[\"Target\"].replace(0,\"Negative\")\n"
   ]
  },
  {
   "cell_type": "code",
   "execution_count": 15,
   "id": "dd17eebb",
   "metadata": {
    "execution": {
     "iopub.execute_input": "2023-07-11T10:59:55.240689Z",
     "iopub.status.busy": "2023-07-11T10:59:55.239459Z",
     "iopub.status.idle": "2023-07-11T10:59:58.106457Z",
     "shell.execute_reply": "2023-07-11T10:59:58.105009Z"
    },
    "papermill": {
     "duration": 2.883153,
     "end_time": "2023-07-11T10:59:58.109174",
     "exception": false,
     "start_time": "2023-07-11T10:59:55.226021",
     "status": "completed"
    },
    "tags": []
   },
   "outputs": [
    {
     "data": {
      "text/plain": [
       "<Figure size 2000x1000 with 0 Axes>"
      ]
     },
     "metadata": {},
     "output_type": "display_data"
    },
    {
     "data": {
      "image/png": "[encoded data removed]",
      "text/plain": [
       "<Figure size 640x480 with 1 Axes>"
      ]
     },
     "metadata": {},
     "output_type": "display_data"
    }
   ],
   "source": [
    "# Plotting the distribution for dataset.\n",
    "\n",
    "#set figure size\n",
    "fig = plt.figure(figsize = (20, 10))\n",
    "\n",
    "ax = data.groupby(\"Target\").count().plot(kind='bar', title='Distribution of data',\n",
    "                                         legend=True)\n",
    "ax.set_xticklabels(['Negative','Positive'], rotation=0)\n",
    "\n",
    "# Storing data in lists.\n",
    "text, sentiment = list(data['Text']), list(data[\"Target\"])"
   ]
  },
  {
   "cell_type": "code",
   "execution_count": 16,
   "id": "04075013",
   "metadata": {
    "execution": {
     "iopub.execute_input": "2023-07-11T10:59:58.137473Z",
     "iopub.status.busy": "2023-07-11T10:59:58.136991Z",
     "iopub.status.idle": "2023-07-11T11:00:02.140753Z",
     "shell.execute_reply": "2023-07-11T11:00:02.138849Z"
    },
    "papermill": {
     "duration": 4.021502,
     "end_time": "2023-07-11T11:00:02.144050",
     "exception": false,
     "start_time": "2023-07-11T10:59:58.122548",
     "status": "completed"
    },
    "tags": []
   },
   "outputs": [
    {
     "data": {
      "text/plain": [
       "<Axes: xlabel='Target', ylabel='count'>"
      ]
     },
     "execution_count": 16,
     "metadata": {},
     "output_type": "execute_result"
    },
    {
     "data": {
      "image/png": "[encoded data removed]",
      "text/plain": [
       "<Figure size 640x480 with 1 Axes>"
      ]
     },
     "metadata": {},
     "output_type": "display_data"
    }
   ],
   "source": [
    "# count plot for target variable\n",
    "import  seaborn as sns\n",
    "sns.countplot(x='Target', data=data)"
   ]
  },
  {
   "cell_type": "markdown",
   "id": "9d4b2a8e",
   "metadata": {
    "papermill": {
     "duration": 0.015391,
     "end_time": "2023-07-11T11:00:02.174303",
     "exception": false,
     "start_time": "2023-07-11T11:00:02.158912",
     "status": "completed"
    },
    "tags": []
   },
   "source": [
    "***I must say data is varient it constantly change last time output shows that most of the tweets are positive and now there are  almost same number of negative tweets***"
   ]
  },
  {
   "cell_type": "code",
   "execution_count": 17,
   "id": "f792d28f",
   "metadata": {
    "execution": {
     "iopub.execute_input": "2023-07-11T11:00:02.204272Z",
     "iopub.status.busy": "2023-07-11T11:00:02.203804Z",
     "iopub.status.idle": "2023-07-11T11:00:02.741837Z",
     "shell.execute_reply": "2023-07-11T11:00:02.740381Z"
    },
    "papermill": {
     "duration": 0.558409,
     "end_time": "2023-07-11T11:00:02.746345",
     "exception": false,
     "start_time": "2023-07-11T11:00:02.187936",
     "status": "completed"
    },
    "tags": []
   },
   "outputs": [
    {
     "data": {
      "image/png": "[encoded data removed]",
      "text/plain": [
       "<Figure size 700x700 with 1 Axes>"
      ]
     },
     "metadata": {},
     "output_type": "display_data"
    }
   ],
   "source": [
    "# plot pie for Distribution of negative and positive Tweets\n",
    "\n",
    "plt.style.use(\"dark_background\")\n",
    "labels = ['Positive', 'Negative']\n",
    "size = data['Target'].value_counts()\n",
    "colors = plt.cm.Wistia(np.linspace(0, 1, 2))\n",
    "explode = [0, 0.1]\n",
    "plt.rcParams['figure.figsize'] = (7, 7)\n",
    "plt.pie(size,labels=labels, colors = colors, explode = explode, \n",
    "        shadow = True, startangle = 90)\n",
    "plt.title('Distribution of Type', fontsize = 25)\n",
    "plt.legend()\n",
    "plt.show()"
   ]
  },
  {
   "cell_type": "code",
   "execution_count": 18,
   "id": "9d701e12",
   "metadata": {
    "execution": {
     "iopub.execute_input": "2023-07-11T11:00:02.780387Z",
     "iopub.status.busy": "2023-07-11T11:00:02.779852Z",
     "iopub.status.idle": "2023-07-11T11:00:03.209512Z",
     "shell.execute_reply": "2023-07-11T11:00:03.207681Z"
    },
    "papermill": {
     "duration": 0.451312,
     "end_time": "2023-07-11T11:00:03.213941",
     "exception": false,
     "start_time": "2023-07-11T11:00:02.762629",
     "status": "completed"
    },
    "tags": []
   },
   "outputs": [
    {
     "data": {
      "image/png": "[encoded data removed]",
      "text/plain": [
       "<Figure size 700x700 with 1 Axes>"
      ]
     },
     "metadata": {},
     "output_type": "display_data"
    }
   ],
   "source": [
    "# plt.style.use(\"dark_background\")\n",
    "data['Target'].value_counts().plot.pie(autopct='%1.1f%%',shadow=True,figsize=(7,7))\n",
    "plt.show()"
   ]
  },
  {
   "cell_type": "markdown",
   "id": "7713a583",
   "metadata": {
    "papermill": {
     "duration": 0.01591,
     "end_time": "2023-07-11T11:00:03.246790",
     "exception": false,
     "start_time": "2023-07-11T11:00:03.230880",
     "status": "completed"
    },
    "tags": []
   },
   "source": [
    "# ***EDA is Done after this I come to the conclusion that data is approximate equaly distributed***"
   ]
  },
  {
   "cell_type": "code",
   "execution_count": null,
   "id": "b44032ba",
   "metadata": {
    "papermill": {
     "duration": 0.014721,
     "end_time": "2023-07-11T11:00:03.276317",
     "exception": false,
     "start_time": "2023-07-11T11:00:03.261596",
     "status": "completed"
    },
    "tags": []
   },
   "outputs": [],
   "source": []
  }
 ],
 "metadata": {
  "kernelspec": {
   "display_name": "Python 3",
   "language": "python",
   "name": "python3"
  },
  "language_info": {
   "codemirror_mode": {
    "name": "ipython",
    "version": 3
   },
   "file_extension": ".py",
   "mimetype": "text/x-python",
   "name": "python",
   "nbconvert_exporter": "python",
   "pygments_lexer": "ipython3",
   "version": "3.10.12"
  },
  "papermill": {
   "default_parameters": {},
   "duration": 61.200044,
   "end_time": "2023-07-11T11:00:06.214194",
   "environment_variables": {},
   "exception": null,
   "input_path": "__notebook__.ipynb",
   "output_path": "__notebook__.ipynb",
   "parameters": {},
   "start_time": "2023-07-11T10:59:05.014150",
   "version": "2.4.0"
  }
 },
 "nbformat": 4,
 "nbformat_minor": 5
}
